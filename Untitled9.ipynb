{
  "nbformat": 4,
  "nbformat_minor": 0,
  "metadata": {
    "colab": {
      "provenance": []
    },
    "kernelspec": {
      "name": "python3",
      "display_name": "Python 3"
    },
    "language_info": {
      "name": "python"
    }
  },
  "cells": [
    {
      "cell_type": "code",
      "execution_count": null,
      "metadata": {
        "id": "XydzCtW-zZh9"
      },
      "outputs": [],
      "source": []
    },
    {
      "cell_type": "markdown",
      "source": [
        "#Restful API & Flask\n",
        "1.  What is a RESTful API ?\n",
        "- A RESTful API (Representational State Transfer API) is a way for different software systems to communicate over the web using standard HTTP methods—like GET, POST, PUT, and DELETE. It follows a set of architectural principles to create scalable and easy-to-use web services.\n",
        "2. Explain the concept of API specification ?\n",
        "- An API specification is a detailed description of how an Application Programming Interface (API) works. It defines the rules and structure that developers must follow to interact with a software system or service.\n",
        "\n",
        "Think of it as a blueprint or contract between the API provider and the developer\n",
        "3.  What is Flask, and why is it popular for building APIs ?\n",
        "- Micro-framework: Flask is considered a micro framework because it doesn't come with many built-in tools like form validation or database abstraction layers. Instead, it's minimal and extensible.\n",
        "\n",
        "WSGI-compatible: Built on top of Werkzeug (a WSGI toolkit) and Jinja2 (a templating engine).\n",
        "\n",
        "Pythonic: Uses standard Python, which makes it intuitive for Python developers.\n",
        "it is populR FOR\n",
        "\n",
        "Simplicity & Flexibility ,Lightweight and Modular,Large Ecosystem\n",
        "4.  What is routing in Flask ?\n",
        "- In Flask, routing refers to the process of mapping URLs (web addresses) to functions in your Python code, which are known as view functions or route handlers.\n",
        "When a user visits a certain URL on your website (like /about or /contact), Flask uses routing to decide which function should handle that request and what response to return\n",
        "5.  How do you create a simple Flask application ?.\n",
        "- Install Flask , Create a Simple Flask App, Run the App,\n",
        "6. What are HTTP methods used in RESTful APIs ?\n",
        "-  1. GET\n",
        "Purpose: Retrieve data from the server.\n",
        "\n",
        "Safe & idempotent: Doesn’t modify data; repeated calls return the same result.\n",
        "7. What is the purpose of the @app.route() decorator in Flask ?\n",
        "- The @app.route() decorator in Flask is used to bind a URL to a specific function, which is typically called a view function. This tells Flask what content to serve when a user visits a particular route (URL path) in your web application.\n",
        "8. What is the difference between GET and POST HTTP methods ?\n",
        "-  GET\n",
        "Purpose: Used to retrieve data from a server.\n",
        "\n",
        "Parameters: Sent in the URL (as query strings), e.g., example.com/search?q=chatgpt.\n",
        "\n",
        "Visibility: Data is visible in the URL — not secure for sensitive data.\n",
        "\n",
        "Caching: Can be cached by browsers and stored in browser history.\n",
        "\n",
        "Idempotent: Yes — calling it multiple times has the same effect as calling it once.\n",
        "\n",
        "Typical Use Case: Loading a webpage, searching data, fetching content.\n",
        "\n",
        " POST\n",
        "Purpose: Used to send data to the server (e.g., form submissions, file uploads).\n",
        "\n",
        "Parameters: Sent in the body of the request — not visible in the URL.\n",
        "\n",
        "Visibility: More secure than GET for sensitive data (but still use HTTPS!).\n",
        "\n",
        "Caching: Not cached by default.\n",
        "\n",
        "Idempotent: No — multiple submissions could cause duplicate actions (like placing an order twice).\n",
        "\n",
        "Typical Use Case: Submitting forms, uploading files, creating a new resource.\n",
        "9. How do you handle errors in Flask APIs ?\n",
        "- Use Flask’s Error Handlers,Use abort() for Controlled Errors, Return JSON Error Responses\n",
        "10. How do you connect Flask to a SQL database ?\n",
        "- 1. Install Required Packages\n",
        "First, you need to install Flask and SQLAlchemy (or Flask-SQLAlchemy, which is a Flask-specific extension for SQLAlchemy).\n",
        "2. Set Up Flask Application and SQLAlchemy Configuration\n",
        "Create your Flask app and configure the database URL in your app.py (or whatever you name your Flask app file):\n",
        "11. What is the role of Flask-SQLAlchemy ?\n",
        "- Flask-SQLAlchemy is an extension for Flask that simplifies the integration of SQLAlchemy with Flask applications. SQLAlchemy is a powerful Object Relational Mapper (ORM) that allows developers to interact with databases using Python objects instead of raw SQL queries. Flask-SQLAlchemy provides a streamlined way to set up and manage database connections, schema migrations, and models in a Flask web application.\n",
        "12. What are Flask blueprints, and how are they useful ?\n",
        "- Flask blueprints are a way to organize your Flask application into smaller, reusable components. Essentially, they allow you to break down your application into multiple modules, making it easier to manage and scale, especially as the project grows in size and complexity.\n",
        "\n",
        "How Blueprints Work:\n",
        "A Blueprint in Flask is a way to organize routes, templates, static files, and other functionalities into separate pieces. Each blueprint can define its own routes, error handlers, and other app-related features. Once the blueprint is defined, it can be registered with the main Flask app, allowing those components to be part of the larger application.\n",
        "\n",
        "Why Are Flask Blueprints Useful?\n",
        "Modularization: Blueprints help split a large application into smaller components. For example, you can have a blueprint for user authentication, one for managing products, and another for handling administrative tasks. This makes your code more modular and easier to maintain.\n",
        "\n",
        "Reusability: Once you've defined a blueprint, you can reuse it in multiple projects or share it with others. For example, you could write a generic \"authentication blueprint\" that you can use across multiple Flask projects.\n",
        "\n",
        "Separation of Concerns: By organizing different parts of your application into blueprints, you achieve a better separation of concerns. This keeps related functionality together and keeps your codebase more organized.\n",
        "13.  What is the purpose of Flask's request object ?\n",
        "- In Flask, the request object is used to handle incoming HTTP requests. It provides access to the data sent by the client (like a browser or any HTTP client) to the Flask application. Here are the main purposes of the request object:\n",
        "\n",
        "Accessing HTTP request data:\n",
        "\n",
        "Form data: You can retrieve data sent through HTML forms (POST requests) using request.form.\n",
        "\n",
        "Query parameters: For data sent via URL query parameters (GET requests), you can access them using request.args.\n",
        "\n",
        "JSON data: If the client sends JSON, you can access it through request.get_json().\n",
        "\n",
        "Headers:\n",
        "\n",
        "It allows you to inspect the HTTP headers sent with the request using request.headers.\n",
        "\n",
        "Files:\n",
        "\n",
        "If the client sends files (e.g., through a file upload form), you can access those files using request.files.\n",
        "\n",
        "URL and Path Information:\n",
        "\n",
        "You can get information about the requested URL, such as the path, using request.path or request.url.\n",
        "\n",
        "Cookies:\n",
        "\n",
        "You can retrieve cookies sent by the client through request.cookies.\n",
        "14. How do you create a RESTful API endpoint using Flask ?\n",
        "- Creating a RESTful API endpoint using Flask is relatively straightforward. Flask is a lightweight Python web framework that makes it easy to create web applications and APIs.\n",
        "\n",
        "Here’s a basic guide on how to create a simple RESTful API endpoint with Flask:\n",
        "\n",
        "1. Install Flask\n",
        "First, make sure you have Flask installed. You can install it using pip\n",
        "2. Create the Flask Application\n",
        "Here’s a simple example of creating a Flask application with a RESTful API endpoint.\n",
        "3. Breakdown of the Code\n",
        "4. Running the Application\n",
        "15. What is the purpose of Flask's jsonify() function ?\n",
        "- Flask's jsonify() function is used to convert Python data structures (like dictionaries or lists) into JSON format, which can then be sent as a response to the client in a web application. When building web APIs or applications that return data, it’s common to return JSON-encoded responses, as JSON is a lightweight data-interchange format that is easy for both humans and machines to read and write.\n",
        "\n",
        "Key purposes of jsonify():\n",
        "Convert Data to JSON: It converts Python objects (like dictionaries, lists, etc.) into valid JSON, which is the standard format for communication between web clients (e.g., browsers or mobile apps) and web servers.\n",
        "\n",
        "Set Correct Headers: It automatically sets the Content-Type header of the response to application/json. This ensures that the client knows the response is in JSON format.\n",
        "16.  Explain Flask’s url_for() function ?\n",
        "- In Flask, the url_for() function is a helper used to generate a URL for a given view function. It’s commonly used for building links dynamically and safely in your templates or views. Rather than hard-coding URLs, which can become error-prone (especially when routes change), url_for() allows you to refer to views by their function names, ensuring that links are always correct and updated when the route changes.\n",
        "17. How does Flask handle static files (CSS, JavaScript, etc.) ?\n",
        "- In Flask, static files like CSS, JavaScript, and images are handled in a special directory called static. By default, Flask serves these files when a request is made to the /static/ URL path. Here's how Flask handles static files:\n",
        "\n",
        "1. The static folder\n",
        "Flask expects static files to be located in a folder named static within your project directory. The directory structure might look something like this:\n",
        "2. Accessing static files\n",
        "Flask automatically maps any files inside the static folder to URLs starting with /static/\n",
        "3. Linking static files in templates\n",
        "When you need to include static files in your HTML templates, Flask provides a special url_for() function. It generates the correct URL for a static file based on the file's name and location in the static folder. For example, to link to the CSS file in the index.html template:\n",
        "18.  What is an API specification, and how does it help in building a Flask API ?\n",
        "- An API specification is a detailed description of how an API (Application Programming Interface) should behave and interact with other software components or systems. It defines the various endpoints, methods, request parameters, response formats, authentication mechanisms, and error handling for an API.\n",
        "\n",
        "API specifications serve as a blueprint or contract between the backend (Flask in your case) and the frontend or consumers of the API. It helps developers, both backend and frontend, understand how to interact with the API consistently and correctly.\n",
        "\n",
        "In the context of building a Flask API, an API specification is crucial because:\n",
        "19. What are HTTP status codes, and why are they important in a Flask AP ?\n",
        "- HTTP status codes are three-digit numbers that indicate the result of an HTTP request made to a web server. They are part of the response sent by the server to the client (browser or another application) and help to understand the outcome of the request.\n",
        "\n",
        "HTTP Status Code Categories:\n",
        "1xx (Informational): These codes indicate that the request was received and is being processed. Example: 100 Continue.\n",
        "\n",
        "2xx (Successful): These codes indicate that the request was successfully processed. Example: 200 OK is the most common status code indicating a successful request.\n",
        "\n",
        "3xx (Redirection): These codes indicate that further action is needed to complete the request, such as redirecting the client to a different URL. Example: 301 Moved Permanently.\n",
        "\n",
        "4xx (Client Errors): These codes indicate that the client sent an invalid request, such as a missing parameter or unauthorized access. Example: 404 Not Found indicates the requested resource does not exist.\n",
        "\n",
        "5xx (Server Errors): These codes indicate that the server encountered an error while processing the request. Example: 500 Internal Server Error suggests that the server failed to complete the request due to an internal problem.\n",
        "\n",
        "Why Are HTTP Status Codes Important in a Flask API?\n",
        "HTTP status codes are essential for several reasons when building a web application or an API using Flask:\n",
        "\n",
        "Communication of Request Status: Status codes help clients (browsers, mobile apps, etc.) understand the result of their requests. For example:\n",
        "\n",
        "A 200 OK status tells the client that the request was successful.\n",
        "\n",
        "A 404 Not Found status tells the client that the resource they requested doesn't exist.\n",
        "\n",
        "Error Handling: They are critical for handling errors. By using the correct status codes, a Flask API can communicate different types of errors, such as invalid input (400 Bad Request), unauthorized access (401 Unauthorized), or internal server problems (500 Internal Server Error).\n",
        "20. How do you handle POST requests in Flask ?\n",
        "- In Flask, handling POST requests involves using the @app.route() decorator to define a route that accepts POST requests, and then using the request object to access the data sent in the POST request.\n",
        "\n",
        "Import Necessary Modules: You'll need the Flask module for creating the app and the request module to access the data sent in the POST request.\n",
        "\n",
        "Define the Route: Use @app.route() to define a route that will handle POST requests. You need to specify the methods=['POST'] argument to the route decorator.\n",
        "\n",
        "Access the POST Data: You can access the data sent in the POST request using request.form for form data or request.json for JSON data.\n",
        "21. M How would you secure a Flask API ?\n",
        "- Securing a Flask API involves a combination of strategies to ensure that the API is protected against various threats and vulnerabilities. Below are some key methods you can use to secure your Flask API:\n",
        "\n",
        "1. Use HTTPS (SSL/TLS)\n",
        "Always use HTTPS instead of HTTP to ensure that data sent between the client and server is encrypted.\n",
        "\n",
        "You can use tools like Let's Encrypt for free SSL certificates.\n",
        "2. Authentication & Authorization\n",
        "Use JWT (JSON Web Tokens) or OAuth2 for securing API endpoints and verifying users.\n",
        "\n",
        "Flask extensions like Flask-JWT-Extended or Flask-OAuthlib help implement secure authentication.\n",
        "22.  What is the significance of the Flask-RESTful extension ?\n",
        "- Flask-RESTful is an extension for Flask that simplifies the creation of REST APIs. It builds on Flask's capabilities to make it easier to build RESTful APIs by adding helpful tools and abstractions, without sacrificing flexibility. Here’s why it’s significant:\n",
        "\n",
        "1. Simplified API Design\n",
        "Flask-RESTful provides a way to organize and structure the API in a clean, simple manner. It allows you to define resource-based endpoints, making the codebase easier to manage and understand.\n",
        "\n",
        "2. Resource-Based Structure\n",
        "Flask-RESTful introduces the concept of resources (usually tied to specific endpoints) that map to classes. You define a class for each resource (like /users, /posts, etc.) and implement methods for HTTP operations (GET, POST, PUT, DELETE).\n",
        "23.  What is the role of Flask’s session object?\n",
        "- In Flask, the session object plays a crucial role in maintaining user-specific data between different requests. It allows you to store information that persists across multiple requests, which is useful for things like user authentication, preferences, and other data that should be remembered across visits.\n",
        "\n",
        "Here’s a quick breakdown of its role and functionality:\n",
        "\n",
        "Stores Data for a User's Session: The session object stores data on a per-user basis, allowing you to track information such as whether the user is logged in, their preferences, or any other relevant details. This data is typically stored in a secure way, usually by using a cookie that is sent back and forth with each request.\n",
        "\n",
        "Persists Across Requests: Unlike normal variables that are reset with each new request, the data in the session object persists across requests from the same user. This is useful for things like tracking user login state or preferences.\n",
        "\n",
        "                       #  Practical  \n",
        "1. How do you create a basic Flask application ?\n",
        "\n"
      ],
      "metadata": {
        "id": "PwELUUJizdpQ"
      }
    },
    {
      "cell_type": "code",
      "source": [
        "from flask import Flask\n",
        "\n",
        "# Create a Flask application instance\n",
        "app = Flask(__name__)\n",
        "\n",
        "# Define a route for the root URL\n",
        "@app.route('/')\n",
        "def hello_world():\n",
        "    return 'Hello, World!'\n",
        "\n",
        "# Run the application\n",
        "if __name__ == '__main__':\n",
        "    app.run(debug=True)\n"
      ],
      "metadata": {
        "colab": {
          "base_uri": "https://localhost:8080/"
        },
        "id": "wSa5vgrB6-3c",
        "outputId": "961a7b57-7eda-43c5-8788-df822a4d4bf3"
      },
      "execution_count": null,
      "outputs": [
        {
          "output_type": "stream",
          "name": "stdout",
          "text": [
            " * Serving Flask app '__main__'\n",
            " * Debug mode: on\n"
          ]
        },
        {
          "output_type": "stream",
          "name": "stderr",
          "text": [
            "INFO:werkzeug:\u001b[31m\u001b[1mWARNING: This is a development server. Do not use it in a production deployment. Use a production WSGI server instead.\u001b[0m\n",
            " * Running on http://127.0.0.1:5000\n",
            "INFO:werkzeug:\u001b[33mPress CTRL+C to quit\u001b[0m\n",
            "INFO:werkzeug: * Restarting with stat\n"
          ]
        }
      ]
    },
    {
      "cell_type": "markdown",
      "source": [
        "2.  How do you serve static files like images or CSS in Flask ?\n"
      ],
      "metadata": {
        "id": "tA_eBS_87HOo"
      }
    },
    {
      "cell_type": "code",
      "source": [
        "from flask import Flask, render_template\n",
        "\n",
        "app = Flask(__name__)\n",
        "\n",
        "@app.route('/')\n",
        "def index():\n",
        "    return render_template('index.html')  # This renders the HTML template\n",
        "\n",
        "if __name__ == '__main__':\n",
        "    app.run(debug=True)\n"
      ],
      "metadata": {
        "id": "fhu5f5V_7RKS"
      },
      "execution_count": null,
      "outputs": []
    },
    {
      "cell_type": "markdown",
      "source": [
        "3. M How do you define different routes with different HTTP methods in Flask ?"
      ],
      "metadata": {
        "id": "bg9TIM7B7cJG"
      }
    },
    {
      "cell_type": "code",
      "source": [
        "from flask import Flask, request\n",
        "\n",
        "app = Flask(__name__)\n",
        "\n",
        "# Route for GET requests\n",
        "@app.route('/example', methods=['GET'])\n",
        "def get_example():\n",
        "    return \"This is a GET request\"\n",
        "\n",
        "# Route for POST requests\n",
        "@app.route('/example', methods=['POST'])\n",
        "def post_example():\n",
        "    return \"This is a POST request\"\n",
        "\n",
        "# Route for PUT requests\n",
        "@app.route('/example', methods=['PUT'])\n",
        "def put_example():\n",
        "    return \"This is a PUT request\"\n",
        "\n",
        "# Route for DELETE requests\n",
        "@app.route('/example', methods=['DELETE'])\n",
        "def delete_example():\n",
        "    return \"This is a DELETE request\"\n",
        "\n",
        "if __name__ == '__main__':\n",
        "    app.run(debug=True)\n"
      ],
      "metadata": {
        "id": "h4Zt1gUN7txS"
      },
      "execution_count": null,
      "outputs": []
    },
    {
      "cell_type": "markdown",
      "source": [
        "4. How do you render HTML templates in Flask ?\n"
      ],
      "metadata": {
        "id": "YfI_Nw7r7w-j"
      }
    },
    {
      "cell_type": "code",
      "source": [
        "<!DOCTYPE html>\n",
        "<html lang=\"en\">\n",
        "<head>\n",
        "    <meta charset=\"UTF-8\">\n",
        "    <meta name=\"viewport\" content=\"width=device-width, initial-scale=1.0\">\n",
        "    <title>Flask Template Example</title>\n",
        "</head>\n",
        "<body>\n",
        "    <h1>Welcome to Flask!</h1>\n",
        "    <p>{{ message }}</p>\n",
        "</body>\n",
        "</html>\n"
      ],
      "metadata": {
        "id": "Xb69YEcU72vo"
      },
      "execution_count": null,
      "outputs": []
    },
    {
      "cell_type": "markdown",
      "source": [
        "5. How can you generate URLs for routes in Flask using url_for4 ?\n"
      ],
      "metadata": {
        "id": "11DxsvQY8Cdk"
      }
    },
    {
      "cell_type": "code",
      "source": [
        "from flask import Flask, url_for, render_template_string\n",
        "\n",
        "app = Flask(__name__)\n",
        "\n",
        "@app.route('/')\n",
        "def home():\n",
        "    return \"Welcome to the homepage!\"\n",
        "\n",
        "@app.route('/profile/<username>')\n",
        "def profile(username):\n",
        "    return f\"Profile of {username}\"\n",
        "\n",
        "if __name__ == \"__main__\":\n",
        "    app.run(debug=True)\n",
        "\n"
      ],
      "metadata": {
        "id": "mY9SiJiC8I7S"
      },
      "execution_count": null,
      "outputs": []
    },
    {
      "cell_type": "markdown",
      "source": [
        "6. How do you handle forms in Flask ?\n"
      ],
      "metadata": {
        "id": "V4eSwvsO8Ouc"
      }
    },
    {
      "cell_type": "code",
      "source": [
        "from flask import Flask, render_template, redirect, url_for\n",
        "from forms import MyForm\n",
        "\n",
        "app = Flask(__name__)\n",
        "app.config['SECRET_KEY'] = 'your_secret_key'  # Use a strong key here\n",
        "\n",
        "@app.route('/', methods=['GET', 'POST'])\n",
        "def index():\n",
        "    form = MyForm()\n",
        "\n",
        "    if form.validate_on_submit():  # Checks if the form was submitted and is valid\n",
        "        name = form.name.data  # Retrieve the data from the form field\n",
        "        return redirect(url_for('success', name=name))\n",
        "\n",
        "    return render_template('index.html', form=form)\n",
        "\n",
        "@app.route('/success')\n",
        "def success():\n",
        "    return \"Form submitted successfully!\"\n",
        "\n",
        "if __name__ == '__main__':\n",
        "    app.run(debug=True)\n"
      ],
      "metadata": {
        "id": "Z6ieZ4ZH8oKs"
      },
      "execution_count": null,
      "outputs": []
    },
    {
      "cell_type": "markdown",
      "source": [
        "7. How can you validate form data in Flask ?\n"
      ],
      "metadata": {
        "id": "QnT0nA9E8yE9"
      }
    },
    {
      "cell_type": "code",
      "source": [
        "from flask import Flask, render_template, request, redirect, url_for\n",
        "from flask_wtf import FlaskForm\n",
        "from wtforms import StringField, PasswordField\n",
        "from wtforms.validators import DataRequired, Length, Email\n",
        "\n",
        "app = Flask(__name__)\n",
        "app.secret_key = 'your_secret_key'  # Required for CSRF protection\n",
        "\n",
        "# Define the form class\n",
        "class MyForm(FlaskForm):\n",
        "    username = StringField('Username', validators=[DataRequired(), Length(min=3, max=100)])\n",
        "    email = StringField('Email', validators=[DataRequired(), Email()])\n",
        "    password = PasswordField('Password', validators=[DataRequired(), Length(min=6)])\n",
        "\n",
        "@app.route('/register', methods=['GET', 'POST'])\n",
        "def register():\n",
        "    form = MyForm()\n",
        "    if form.validate_on_submit():\n",
        "        # Form is valid, process the data\n",
        "        username = form.username.data\n",
        "        email = form.email.data\n",
        "        password = form.password.data\n",
        "        return redirect(url_for('success'))  # Redirect after form submission\n",
        "\n",
        "    return render_template('register.html', form=form)\n",
        "\n",
        "@app.route('/success')\n",
        "def success():\n",
        "    return \"Form submitted successfully!\"\n",
        "\n",
        "if __name__ == '__main__':\n",
        "    app.run(debug=True)\n"
      ],
      "metadata": {
        "id": "wU9i6EPZ83Yq"
      },
      "execution_count": null,
      "outputs": []
    },
    {
      "cell_type": "markdown",
      "source": [
        "8. How do you manage sessions in Flask ?\n"
      ],
      "metadata": {
        "id": "zGL83Tzl89Xs"
      }
    },
    {
      "cell_type": "code",
      "source": [
        "from flask import Flask, session, redirect, url_for, request\n",
        "\n",
        "app = Flask(__name__)\n",
        "\n",
        "# Set the secret key to sign session cookies (use a strong, random key in production)\n",
        "app.secret_key = 'your_secret_key_here'\n",
        "\n",
        "@app.route('/')\n",
        "def index():\n",
        "    # Access session data\n",
        "    if 'username' in session:\n",
        "        return f'Logged in as {session[\"username\"]}'\n",
        "    return 'You are not logged in'\n",
        "\n",
        "@app.route('/login', methods=['GET', 'POST'])\n",
        "def login():\n",
        "    if request.method == 'POST':\n",
        "        # Set session data\n",
        "        session['username'] = request.form['username']\n",
        "        return redirect(url_for('index'))\n",
        "    return '''\n",
        "        <form method=\"post\">\n",
        "            Username: <input type=\"text\" name=\"username\">\n",
        "            <input type=\"submit\" value=\"Login\">\n",
        "        </form>\n",
        "    '''\n",
        "\n",
        "@app.route('/logout')\n",
        "def logout():\n",
        "    # Remove session data\n",
        "    session.pop('username', None)\n",
        "    return redirect(url_for('index'))\n",
        "\n",
        "if __name__ == '__main__':\n",
        "    app.run(debug=True)\n",
        "\n"
      ],
      "metadata": {
        "id": "Oltpv-UP9C0D"
      },
      "execution_count": null,
      "outputs": []
    },
    {
      "cell_type": "markdown",
      "source": [
        "9. How do you redirect to a different route in Flask ?\n"
      ],
      "metadata": {
        "id": "9mYH2d6W9HZ_"
      }
    },
    {
      "cell_type": "code",
      "source": [
        "from flask import Flask, redirect, url_for\n",
        "\n",
        "app = Flask(__name__)\n",
        "\n",
        "@app.route('/')\n",
        "def home():\n",
        "    return 'Home Page'\n",
        "\n",
        "@app.route('/login')\n",
        "def login():\n",
        "    return 'Login Page'\n",
        "\n",
        "@app.route('/redirect_to_login')\n",
        "def redirect_to_login():\n",
        "    # Redirecting to the login route\n",
        "    return redirect(url_for('login'))\n",
        "\n",
        "if __name__ == '__main__':\n",
        "    app.run(debug=True)\n"
      ],
      "metadata": {
        "id": "cgxdSfu29NjX"
      },
      "execution_count": null,
      "outputs": []
    },
    {
      "cell_type": "markdown",
      "source": [
        "10. M How do you handle errors in Flask (e.g., 404) ?\n"
      ],
      "metadata": {
        "id": "tWTFAvEg9RQ0"
      }
    },
    {
      "cell_type": "code",
      "source": [
        "from flask import Flask, render_template\n",
        "\n",
        "app = Flask(__name__)\n",
        "\n",
        "@app.errorhandler(404)\n",
        "def not_found(error):\n",
        "    return render_template('404.html'), 404  # Render a custom 404 page\n",
        "\n",
        "if __name__ == '__main__':\n",
        "    app.run(debug=True)\n"
      ],
      "metadata": {
        "id": "DExoeGAx9WI0"
      },
      "execution_count": null,
      "outputs": []
    },
    {
      "cell_type": "markdown",
      "source": [
        "11. M How do you structure a Flask app using Blueprints ?\n"
      ],
      "metadata": {
        "id": "S-Oa1JhX9bvd"
      }
    },
    {
      "cell_type": "code",
      "source": [
        "from flask import Blueprint\n",
        "\n",
        "# Define the blueprint for the main section of your app\n",
        "main_bp = Blueprint('main', __name__, template_folder='templates', static_folder='static')\n",
        "\n",
        "from app.main import routes  # Import routes after blueprint is defined\n"
      ],
      "metadata": {
        "id": "tt4N6-VR9fpv"
      },
      "execution_count": null,
      "outputs": []
    },
    {
      "cell_type": "markdown",
      "source": [
        "12. How do you define a custom Jinja filter in Flask ?\n"
      ],
      "metadata": {
        "id": "1HV-asDK9nKh"
      }
    },
    {
      "cell_type": "code",
      "source": [
        "<!-- templates/index.html -->\n",
        "<!DOCTYPE html>\n",
        "<html lang=\"en\">\n",
        "<head>\n",
        "    <meta charset=\"UTF-8\">\n",
        "    <meta name=\"viewport\" content=\"width=device-width, initial-scale=1.0\">\n",
        "    <title>Flask Example</title>\n",
        "</head>\n",
        "<body>\n",
        "    <h1>{{ name|uppercase }}</h1>\n",
        "</body>\n",
        "</html>\n",
        "\n"
      ],
      "metadata": {
        "id": "HlFpHYCq9rUJ"
      },
      "execution_count": null,
      "outputs": []
    },
    {
      "cell_type": "markdown",
      "source": [],
      "metadata": {
        "id": "A0ea5GjJ0Gzy"
      }
    }
  ]
}